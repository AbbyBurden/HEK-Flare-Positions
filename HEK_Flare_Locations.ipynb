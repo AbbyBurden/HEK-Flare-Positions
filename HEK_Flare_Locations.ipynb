{
 "cells": [
  {
   "cell_type": "markdown",
   "id": "ac7462c7-bcf3-48db-9d0a-937589b13e33",
   "metadata": {},
   "source": [
    "This code uses difference images to find the correct hpc locations for flares, using the start and peak times of flares recorded in the HEK."
   ]
  },
  {
   "cell_type": "code",
   "execution_count": null,
   "id": "dcee6a29-493a-4fbe-8de4-c0ae021ca0a1",
   "metadata": {},
   "outputs": [],
   "source": [
    "import os\n",
    "import pandas as pd\n",
    "import astropy.units as u\n",
    "from astropy.time import Time, TimeDelta\n",
    "from sunpy.net import Fido\n",
    "from sunpy.net import attrs as a\n",
    "import sunpy.map\n",
    "from scipy.ndimage import gaussian_filter\n",
    "import numpy as np"
   ]
  },
  {
   "cell_type": "code",
   "execution_count": null,
   "id": "792cbb60-a61f-49ec-871b-b50d747e533d",
   "metadata": {},
   "outputs": [],
   "source": [
    "df = pd.read_csv('hek_results/hek_flares.csv')   # Read in dataframe with HEK flare starttime/peaktime info"
   ]
  },
  {
   "cell_type": "code",
   "execution_count": null,
   "id": "c56e48f1-7b35-470d-ba08-c7eded5b516b",
   "metadata": {},
   "outputs": [],
   "source": [
    "def find_flare_location(hek_entry):\n",
    "    downloaded_files = None\n",
    "    try:\n",
    "        # Defining times to retreive AIA images\n",
    "        time_delta = TimeDelta(30, format='sec')\n",
    "        start_time = Time(hek_entry['Start Time'])\n",
    "        peak_time = Time(hek_entry['Peak Time'])\n",
    "        start_time_lagged = start_time + time_delta\n",
    "        peak_time_lagged = peak_time + time_delta\n",
    "\n",
    "        # Download the AIA data\n",
    "        result_start = Fido.search(a.Time(start_time, start_time_lagged),\n",
    "                                   a.Instrument(\"aia\"), a.Wavelength(94*u.angstrom))[0][0]\n",
    "        result_peak = Fido.search(a.Time(peak_time, peak_time_lagged),\n",
    "                                  a.Instrument(\"aia\"), a.Wavelength(94*u.angstrom))[0][0]\n",
    "        \n",
    "        downloaded_files = Fido.fetch(result_start, result_peak)\n",
    "        maps = sunpy.map.Map(downloaded_files)\n",
    "        \n",
    "        start_map = maps[0] / maps[0].exposure_time  # start emission frame\n",
    "        end_map = maps[1] / maps[1].exposure_time    # peak emission frame\n",
    "        diff = end_map.data - start_map.data  # find the difference between the 2 frames\n",
    "        \n",
    "        blurred = gaussian_filter(diff, sigma=20)  # blur the difference map\n",
    "        diff_map = sunpy.map.Map(blurred, start_map.meta)\n",
    "        \n",
             
    "        # find brightest pixel representing biggest change\n",
    "        pixel_pos = np.argwhere(diff_map.data == diff_map.data.max()) * u.pixel   \n",
    "        # convert to world coordinates\n"
    "        hpc_max = diff_map.wcs.pixel_to_world(pixel_pos[:, 1], pixel_pos[:, 0]) \n",
    "        \n",
    "        return hpc_max.Tx.value[0], hpc_max.Ty.value[0]\n",
    "    except Exception as e:\n",
    "        print(f\"Error finding flare location for entry {hek_entry}: {e}\")\n",
    "        return None, None\n",
    "    finally:\n",
    "        if downloaded_files:\n",
    "            for file in downloaded_files:\n",
    "                try:\n",
    "                    os.remove(file)\n",
    "                except Exception as e:\n",
    "                    print(f\"Error removing file {file}: {e}\")"
   ]
  },
  {
   "cell_type": "code",
   "execution_count": null,
   "id": "04ec4c7c-f577-4422-a2e0-f871d3346bdc",
   "metadata": {},
   "outputs": [],
   "source": [
    "for num, row in df.iterrows():\n",
    "    \n",

    "   # if using dataframe with some values already processed, only find hpcs for nan rows \n"
    "    if pd.isna(row[\"hpc_x\"]):   # if using dataframe with some values already processed, only find hpcs for nan rows\n",
    "        hpc_x, hpc_y = find_flare_location(row)\n",
    "        df.at[num, 'hpc_x'] = hpc_x   # add values to dataframe\n",
    "        df.at[num, 'hpc_y'] = hpc_y\n",
    "\n",
    "        print(f' Found hpc for row {num}, with location: {hpc_x}, {hpc_y}')\n",
    "\n",
    "    df.to_csv('hek_results/hek_flares.csv', index=False)  # Save updated dataframe after each row is processed\n",
    "    print('Saved dataframe to hek_results/hek_flares.csv')\n",
    "\n",
    "print('Processing completed')"
   ]
  }
 ],
 "metadata": {
  "kernelspec": {
   "display_name": "Python 3 (ipykernel)",
   "language": "python",
   "name": "python3"
  },
  "language_info": {
   "codemirror_mode": {
    "name": "ipython",
    "version": 3
   },
   "file_extension": ".py",
   "mimetype": "text/x-python",
   "name": "python",
   "nbconvert_exporter": "python",
   "pygments_lexer": "ipython3",
   "version": "3.11.0"
  }
 },
 "nbformat": 4,
 "nbformat_minor": 5
}
